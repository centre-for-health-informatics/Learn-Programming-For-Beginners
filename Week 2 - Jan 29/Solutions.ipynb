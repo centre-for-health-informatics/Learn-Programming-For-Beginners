{
 "cells": [
  {
   "cell_type": "markdown",
   "metadata": {},
   "source": [
    "# Solutions"
   ]
  },
  {
   "cell_type": "markdown",
   "metadata": {},
   "source": [
    "## If/Else Statements"
   ]
  },
  {
   "cell_type": "markdown",
   "metadata": {},
   "source": [
    "Write an if/else statement to determine whether the value of x is greater than 10. Print the result"
   ]
  },
  {
   "cell_type": "code",
   "execution_count": null,
   "metadata": {},
   "outputs": [],
   "source": [
    "x = input(\"Enter an integer: \")\n",
    "x = int(x)\n",
    "\n",
    "# Write code here:\n",
    "if x > 10:\n",
    "    print(\"x is greater than 10.\")\n",
    "else:\n",
    "    print(\"x is not greater than 10.\")"
   ]
  },
  {
   "cell_type": "markdown",
   "metadata": {},
   "source": [
    "A second input is taken, check whether it is the same as the previous"
   ]
  },
  {
   "cell_type": "code",
   "execution_count": null,
   "metadata": {},
   "outputs": [],
   "source": [
    "y = int(input(\"Enter another integer: \"))\n",
    "\n",
    "# Write code here:\n",
    "if x == y:\n",
    "    print(\"They are the same\")\n",
    "else:\n",
    "    print(\"They are different\")"
   ]
  },
  {
   "cell_type": "markdown",
   "metadata": {},
   "source": [
    "<br><br>"
   ]
  },
  {
   "cell_type": "markdown",
   "metadata": {},
   "source": [
    "Write an if statement that prints `too small` if a number is less than 10 `too large` if the number is more than 100, `correct` if it is exactly 42, and `fine I guess` otherwise."
   ]
  },
  {
   "cell_type": "code",
   "execution_count": null,
   "metadata": {},
   "outputs": [],
   "source": [
    "# Write code here:\n",
    "x = int(input(\"Enter a number: \"))\n",
    "\n",
    "if x < 10:\n",
    "    print('too small')\n",
    "elif x > 100:\n",
    "    print('too large')\n",
    "elif x == 42:\n",
    "    print('correct')\n",
    "else:\n",
    "    print('fine I guess')"
   ]
  },
  {
   "cell_type": "markdown",
   "metadata": {},
   "source": [
    "<br><br>"
   ]
  },
  {
   "cell_type": "markdown",
   "metadata": {},
   "source": [
    "Write code that checks whether the input is a date in the form MM-DD-YYYY. For simplicity, you can assume that any month can have 31 days.\n",
    "\n",
    "The `isnumeric` function will prove helpful.\\\n",
    "`my_string = \"123\"`\\\n",
    "`my_string.isnumeric() => True`\\\n",
    "`other_string = \"hello\"`\\\n",
    "`other_string.isnumeric() => False`\n",
    "\n",
    "For additional practice: if the input is valid, print the date in the form \"January 29th, 2020\" (for input of 01-29-2020). "
   ]
  },
  {
   "cell_type": "code",
   "execution_count": null,
   "metadata": {},
   "outputs": [],
   "source": [
    "date = input(\"Enter a date: \")\n",
    "\n",
    "# Write code here:\n",
    "valid_date = False\n",
    "# Checking to make sure that the length of the input is 10 and there are \"-\" in the required positions\n",
    "if len(date) == 10 and date[2] == \"-\" and date[5] == \"-\":\n",
    "    # date.replace(\"-\", \"\").isnumeric() - checking if the input with \"-\" is numeric - indicates that all of the characters are numeric\n",
    "    # \".\" not in date - ensuring there is no period. The previous condition will pass as true if there is a single period within the string\n",
    "    # int(date[0:2]) in range(1,13) - checking that the first number is between 1 and 12\n",
    "    # int(date[3:5]) in range(1,32) - checking that the second number is between 1 and 31\n",
    "    if date.replace(\"-\", \"\").isnumeric() and \".\" not in date and int(date[0:2]) in range(1,13) and int(date[3:5]) in range(1,32):\n",
    "        valid_date = True\n",
    "        print(\"The date is valid.\")\n",
    "if not valid_date:\n",
    "    print(\"Invalid input.\")\n",
    "    \n",
    "# Additional practice:\n",
    "if valid_date:\n",
    "    # Initializing an empty string to concatenate pieces to\n",
    "    date_to_print = ''\n",
    "    # Making a list of months to map to\n",
    "    months = ['January', 'February', 'March', 'April', 'May', 'June', 'July', 'August', 'September', 'October', 'November', 'December']\n",
    "    # Adding the appropriate month to the string, followed by a space\n",
    "    date_to_print += months[int(date[0:2])-1] + \" \"\n",
    "    \n",
    "    # If date[3:5] is less than ten (i.e. 08), only take the 2nd number\n",
    "    if int(date[3:5]) < 10:\n",
    "        date_to_print += date[4]\n",
    "    # else take both numbers\n",
    "    else:\n",
    "        date_to_print += date[3:5]\n",
    "        \n",
    "    # Adding the appropriate ending to the day\n",
    "    if date[4] == '1':\n",
    "        date_to_print += 'st'\n",
    "    elif date[4] == '2':\n",
    "        date_to_print += 'nd'\n",
    "    else:\n",
    "        date_to_print += 'th'\n",
    "        \n",
    "    # Adding a comma, space, and the year\n",
    "    date_to_print += ', ' + date[6:]\n",
    "    print(date_to_print)"
   ]
  }
 ],
 "metadata": {
  "kernelspec": {
   "display_name": "Python 3",
   "language": "python",
   "name": "python3"
  },
  "language_info": {
   "codemirror_mode": {
    "name": "ipython",
    "version": 3
   },
   "file_extension": ".py",
   "mimetype": "text/x-python",
   "name": "python",
   "nbconvert_exporter": "python",
   "pygments_lexer": "ipython3",
   "version": "3.7.3"
  }
 },
 "nbformat": 4,
 "nbformat_minor": 2
}
