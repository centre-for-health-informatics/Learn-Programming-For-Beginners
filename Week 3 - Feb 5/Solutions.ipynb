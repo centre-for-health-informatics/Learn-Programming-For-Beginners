{
 "cells": [
  {
   "cell_type": "markdown",
   "metadata": {},
   "source": [
    "# Solutions"
   ]
  },
  {
   "cell_type": "markdown",
   "metadata": {},
   "source": [
    "## Loops"
   ]
  },
  {
   "cell_type": "markdown",
   "metadata": {},
   "source": [
    "Write a for loop that prints all of the values in a list."
   ]
  },
  {
   "cell_type": "code",
   "execution_count": null,
   "metadata": {},
   "outputs": [],
   "source": [
    "my_list = [1,2,3,4,\"hello\",True,\"[1,2,3]\"]\n",
    "\n",
    "# Write code here:\n",
    "for value in my_list:\n",
    "    print(value)"
   ]
  },
  {
   "cell_type": "markdown",
   "metadata": {},
   "source": [
    "<br><br>"
   ]
  },
  {
   "cell_type": "markdown",
   "metadata": {},
   "source": [
    "Write a for loop that will go through every element of a list and print the values that are strings."
   ]
  },
  {
   "cell_type": "code",
   "execution_count": null,
   "metadata": {},
   "outputs": [],
   "source": [
    "my_list = [1,2,'bob',3,'cat']\n",
    "\n",
    "# Write code here:\n",
    "for i in my_list:\n",
    "    if type(i) == str:\n",
    "        print(i)"
   ]
  },
  {
   "cell_type": "markdown",
   "metadata": {},
   "source": [
    "<br><br>"
   ]
  },
  {
   "cell_type": "markdown",
   "metadata": {},
   "source": [
    "Write a for loop to print the square of the number between 0 and 10 inclusive."
   ]
  },
  {
   "cell_type": "code",
   "execution_count": null,
   "metadata": {},
   "outputs": [],
   "source": [
    "# Write code here:\n",
    "for i in range(11):\n",
    "    print(i**2)"
   ]
  },
  {
   "cell_type": "markdown",
   "metadata": {},
   "source": [
    "<br><br>"
   ]
  },
  {
   "cell_type": "markdown",
   "metadata": {},
   "source": [
    "Write a for loop to print all the numbers between 0 and 10 inclusive that are evenly divisible by 2."
   ]
  },
  {
   "cell_type": "code",
   "execution_count": null,
   "metadata": {},
   "outputs": [],
   "source": [
    "# Write code here:\n",
    "for i in range(11):\n",
    "    if i % 2 == 0:\n",
    "        print(i)"
   ]
  },
  {
   "cell_type": "markdown",
   "metadata": {},
   "source": [
    "<br><br>"
   ]
  },
  {
   "cell_type": "markdown",
   "metadata": {},
   "source": [
    "Write a while loop that will never exit, and then interrupt the kernal to stop it (square stop button next to the run buttom at the top)."
   ]
  },
  {
   "cell_type": "code",
   "execution_count": null,
   "metadata": {},
   "outputs": [],
   "source": [
    "# Write code here:\n",
    "while 1==1:\n",
    "    continue\n",
    "    \n",
    "# Alternate solution:\n",
    "while True:\n",
    "    continue"
   ]
  },
  {
   "cell_type": "markdown",
   "metadata": {},
   "source": [
    "<br><br>"
   ]
  },
  {
   "cell_type": "markdown",
   "metadata": {},
   "source": [
    "Write a for loop to add the numbers 0 to 10 to an empty list one at a time."
   ]
  },
  {
   "cell_type": "code",
   "execution_count": null,
   "metadata": {},
   "outputs": [],
   "source": [
    "# Write code here:\n",
    "x = []\n",
    "for i in range(11):\n",
    "    x.append(i)\n",
    "x"
   ]
  },
  {
   "cell_type": "markdown",
   "metadata": {},
   "source": [
    "<br><br>"
   ]
  },
  {
   "cell_type": "markdown",
   "metadata": {},
   "source": [
    "Write code that creates a list of lists, then print it so that it looks like the following:\n",
    "\n",
    "[1, 2, 3]\n",
    "\n",
    "[4, 5, 6]\n",
    "\n",
    "[7, 8, 9]\n",
    "\n",
    "Use nested for loops."
   ]
  },
  {
   "cell_type": "code",
   "execution_count": null,
   "metadata": {},
   "outputs": [],
   "source": [
    "# Write code here:\n",
    "outer_list = []\n",
    "for i in range(3):\n",
    "    inner_list = []\n",
    "    for j in range(1,4):\n",
    "        inner_list.append(i*3 + j)\n",
    "    outer_list.append(inner_list)\n",
    "\n",
    "for inner_list in outer_list:\n",
    "    print(inner_list)"
   ]
  },
  {
   "cell_type": "markdown",
   "metadata": {},
   "source": [
    "<br><br>"
   ]
  },
  {
   "cell_type": "markdown",
   "metadata": {},
   "source": [
    "Write a loop to print out all of the vowels and their positions in the string \"oisnefoiweofijqpocmosfungoqwhefpqneoifn\"."
   ]
  },
  {
   "cell_type": "code",
   "execution_count": null,
   "metadata": {},
   "outputs": [],
   "source": [
    "s = \"oisnefoiweofijqpocmosfungoqwhefpqneoifn\"\n",
    "\n",
    "# Write code here:\n",
    "for i in range(len(s)):\n",
    "    if s[i] in 'aeiou':\n",
    "        print(i, s[i])\n",
    "\n",
    "\n",
    "# Alternate solution using enumerate function\n",
    "for sn, si in enumerate(s):\n",
    "    if si in \"aeiou\":\n",
    "        print(sn, si)"
   ]
  },
  {
   "cell_type": "markdown",
   "metadata": {},
   "source": [
    "<br><br>"
   ]
  },
  {
   "cell_type": "markdown",
   "metadata": {},
   "source": [
    "Use loops and if statements to print out the prime numbers between 1 and 100. (A number is considered prime if the only numbers it is divisible by without remainder are itself and 1.)"
   ]
  },
  {
   "cell_type": "code",
   "execution_count": null,
   "metadata": {},
   "outputs": [],
   "source": [
    "# Write code here:\n",
    "for i in range(2,101):\n",
    "    is_prime = True\n",
    "    for j in range(2, i//2+1):\n",
    "        if i % j == 0:\n",
    "            is_prime = False\n",
    "            break\n",
    "    if is_prime:\n",
    "        print(i)"
   ]
  },
  {
   "cell_type": "markdown",
   "metadata": {},
   "source": [
    "<br><br>"
   ]
  },
  {
   "cell_type": "markdown",
   "metadata": {},
   "source": [
    "A formula for the value of pi can be obtained from the Leibniz series: `pi/4 = 1 - 1/3 + 1/5 - 1/7 + 1/9 - ...` (this series goes forever). Using a for loop, print an approximate value of pi to the screen. The more iterations your for loop has, the more precise your approximation will be."
   ]
  },
  {
   "cell_type": "code",
   "execution_count": null,
   "metadata": {},
   "outputs": [],
   "source": [
    "# Write code here:\n",
    "pi_estimate = 0\n",
    "for i in range(0, 1000):\n",
    "    numerator = (-1)**(i)\n",
    "    denominator = (2*i + 1)\n",
    "    pi_estimate += 4*numerator/denominator\n",
    "print(pi_estimate)"
   ]
  },
  {
   "cell_type": "markdown",
   "metadata": {},
   "source": [
    "<br><br>"
   ]
  },
  {
   "cell_type": "markdown",
   "metadata": {},
   "source": [
    "Write code that repeatedly asks the user to guess a number (x) until it is guessed correctly"
   ]
  },
  {
   "cell_type": "code",
   "execution_count": null,
   "metadata": {},
   "outputs": [],
   "source": [
    "import random\n",
    "x = random.randint(1,10) # Generates a random integer between 1 and 10\n",
    "\n",
    "# Write code here:\n",
    "while True:\n",
    "    guess = int(input(\"Guess a number between 1 and 10: \"))\n",
    "    if(guess == x):\n",
    "        print(\"Correct!\")\n",
    "        break\n",
    "    elif guess in range(1,11): # This elif statement could be skipped, putting the content into the else statement.\n",
    "        print(\"Guess again!\")  # This is only to show an extra step that could be taken.\n",
    "    else:\n",
    "        print(\"Invalid input\")"
   ]
  },
  {
   "cell_type": "markdown",
   "metadata": {},
   "source": [
    "<br><br>"
   ]
  },
  {
   "cell_type": "markdown",
   "metadata": {},
   "source": [
    "Write code that guesses the users age by generating random numbers and listening to user feedback.\n",
    "Start by guessing between 0 and 100 randomly. The user can answer `younger`, `older`, or `yes`. Update the range to guess from and continue making guesses until the correct age is guessed. See previous questions for how to generate random integers."
   ]
  },
  {
   "cell_type": "code",
   "execution_count": null,
   "metadata": {},
   "outputs": [],
   "source": [
    "# Write code here:\n",
    "import random\n",
    "\n",
    "lower_age = 0\n",
    "upper_age = 100\n",
    "guess = random.randint(lower_age, upper_age)\n",
    "while True:\n",
    "    answer = input('Are you ' + str(guess) + ' years old? ')\n",
    "    if answer == 'yes':\n",
    "        print('Good')\n",
    "        break\n",
    "    elif answer == 'older':\n",
    "        lower_age = guess + 1\n",
    "    elif answer == 'younger':\n",
    "        upper_age = guess - 1\n",
    "    else:\n",
    "        print('Invalid input.')\n",
    "        continue\n",
    "    guess = random.randint(lower_age, upper_age)"
   ]
  },
  {
   "cell_type": "markdown",
   "metadata": {},
   "source": [
    "<br><br>"
   ]
  },
  {
   "cell_type": "markdown",
   "metadata": {},
   "source": [
    "Write code that continually asks the user to input letter grades. Enter `q` to quit entering grades. Then calcuate and print the GPA.\n",
    "\n",
    "A+ = 4.0\n",
    "\n",
    "A = 4.0\n",
    "\n",
    "A- = 3.7\n",
    "\n",
    "B+ = 3.3\n",
    "\n",
    "B = 3.0\n",
    "\n",
    "B- = 2.7\n",
    "\n",
    "C+ = 2.3\n",
    "\n",
    "C = 2\n",
    "\n",
    "C- = 1.7\n",
    "\n",
    "D+ = 1.3\n",
    "\n",
    "D = 1\n",
    "\n",
    "F = 0\n",
    "\n",
    "You can reduce the number of letters that you use in your grading scale in order to keep the length of code smaller if desired. (e.g. using only A to C)"
   ]
  },
  {
   "cell_type": "code",
   "execution_count": null,
   "metadata": {},
   "outputs": [],
   "source": [
    "# Write code here:\n",
    "\n",
    "grades = []\n",
    "possible_grades = ['A+','A','A-','B+','B','B-','C+','C','C-','D+','D','F']\n",
    "while True:\n",
    "    input_grade = input(\"Enter a grade: \")\n",
    "    if input_grade in possible_grades:\n",
    "        grades.append(input_grade)\n",
    "    elif input_grade == 'q':\n",
    "        break\n",
    "    else:\n",
    "        print(\"Invalid input\")\n",
    "        \n",
    "total_points = 0\n",
    "for grade in grades:\n",
    "    if grade == 'A+':\n",
    "        total_points += 4\n",
    "    elif grade == 'A':\n",
    "        total_points += 4\n",
    "    elif grade == 'A-':\n",
    "        total_points += 3.7\n",
    "    elif grade == 'B+':\n",
    "        total_points += 3.3\n",
    "    elif grade == 'B':\n",
    "        total_points += 3\n",
    "    elif grade == 'B-':\n",
    "        total_points += 2.7\n",
    "    elif grade == 'C+':\n",
    "        total_points += 2.3\n",
    "    elif grade == 'C':\n",
    "        total_points += 2\n",
    "    elif grade == 'C-':\n",
    "        total_points += 1.7\n",
    "    elif grade == 'D+':\n",
    "        total_points += 1.3\n",
    "    elif grade == 'D':\n",
    "        total_points += 1\n",
    "    elif grade == 'F':\n",
    "        total_points += 0\n",
    "# There are other, cleaner ways to write this code instead of using many elif statements. \n",
    "# These methods will be discussed later\n",
    "        \n",
    "        \n",
    "gpa = total_points/len(grades)\n",
    "\n",
    "print(\"your GPA is: \", gpa)"
   ]
  },
  {
   "cell_type": "markdown",
   "metadata": {},
   "source": [
    "<br><br>"
   ]
  },
  {
   "cell_type": "markdown",
   "metadata": {},
   "source": [
    "## Functions"
   ]
  },
  {
   "cell_type": "markdown",
   "metadata": {},
   "source": [
    "Write a function that takes two numbers and returns the sum."
   ]
  },
  {
   "cell_type": "code",
   "execution_count": null,
   "metadata": {},
   "outputs": [],
   "source": [
    "# Write code here\n",
    "def add(num1, num2):\n",
    "    return num1 + num2"
   ]
  },
  {
   "cell_type": "markdown",
   "metadata": {},
   "source": [
    "<br><br>"
   ]
  },
  {
   "cell_type": "markdown",
   "metadata": {},
   "source": [
    "Write a function that takes a list of numbers and returns the sum of all the numbers."
   ]
  },
  {
   "cell_type": "code",
   "execution_count": null,
   "metadata": {},
   "outputs": [],
   "source": [
    "# Write code here\n",
    "def sum_list(numbers):\n",
    "    total = 0\n",
    "    for number in numbers:\n",
    "        total += number\n",
    "    return total"
   ]
  },
  {
   "cell_type": "markdown",
   "metadata": {},
   "source": [
    "<br><br>"
   ]
  },
  {
   "cell_type": "markdown",
   "metadata": {},
   "source": [
    "Write a function that takes a single integer and returns its square."
   ]
  },
  {
   "cell_type": "code",
   "execution_count": null,
   "metadata": {},
   "outputs": [],
   "source": [
    "def square(x):\n",
    "    return x**2"
   ]
  },
  {
   "cell_type": "markdown",
   "metadata": {},
   "source": [
    "<br><br>"
   ]
  },
  {
   "cell_type": "markdown",
   "metadata": {},
   "source": [
    "Write a function that accepts a person's name and prints a greeting to that person."
   ]
  },
  {
   "cell_type": "code",
   "execution_count": null,
   "metadata": {},
   "outputs": [],
   "source": [
    "# Write code here\n",
    "def greet(name):\n",
    "    print(\"Hello\", name)"
   ]
  },
  {
   "cell_type": "markdown",
   "metadata": {},
   "source": [
    "<br><br>"
   ]
  },
  {
   "cell_type": "markdown",
   "metadata": {},
   "source": [
    "Write a function that takes two strings and returns the longer one (or the first one if they're the same length)."
   ]
  },
  {
   "cell_type": "code",
   "execution_count": null,
   "metadata": {},
   "outputs": [],
   "source": [
    "def which_is_longer(str1, str2):\n",
    "    if len(str1) >= len(str2):\n",
    "        return str1\n",
    "    else:\n",
    "        return str2"
   ]
  },
  {
   "cell_type": "markdown",
   "metadata": {},
   "source": [
    "<br><br>"
   ]
  },
  {
   "cell_type": "markdown",
   "metadata": {},
   "source": [
    "Write a function that has two integer inputs, and returns a list starting at the lower number and going to the higher (inclusive). Perform error checking to make sure that the inputs are both integers."
   ]
  },
  {
   "cell_type": "code",
   "execution_count": null,
   "metadata": {},
   "outputs": [],
   "source": [
    "# Write code here\n",
    "def make_list(num1, num2):\n",
    "    # error checking input\n",
    "    if not (type(num1) == int and type(num2) == int):\n",
    "        print(\"Invalid input.\")\n",
    "        return\n",
    "    \n",
    "    # Swapping the order of numbers if the first number is bigger\n",
    "    if num1 > num2:\n",
    "        temp = num2\n",
    "        num2 = num1\n",
    "        num1 = temp\n",
    "        \n",
    "    # making list\n",
    "    num_list = []\n",
    "    i = num1\n",
    "    while i < num2 + 1:\n",
    "        num_list.append(i)\n",
    "        i += 1\n",
    "    return num_list"
   ]
  },
  {
   "cell_type": "markdown",
   "metadata": {},
   "source": [
    "<br><br>"
   ]
  },
  {
   "cell_type": "markdown",
   "metadata": {},
   "source": [
    "Write a function that takes a single input. If it's an integer, return the square. If it's a string, return the longer of that string and the string \"foo\". Otherwise, print \"Get out of here!!\"\n",
    "\n",
    "The function signature is provided."
   ]
  },
  {
   "cell_type": "code",
   "execution_count": null,
   "metadata": {},
   "outputs": [],
   "source": [
    "def square_or_which_is_longer(x):\n",
    "    if isinstance(x, int):\n",
    "        return square(x)\n",
    "    elif isinstance(x, str):\n",
    "        return which_is_longer(x, \"foo\")\n",
    "    else:\n",
    "        print(\"Get out of here!!\")"
   ]
  },
  {
   "cell_type": "markdown",
   "metadata": {},
   "source": [
    "Tests"
   ]
  },
  {
   "cell_type": "code",
   "execution_count": null,
   "metadata": {},
   "outputs": [],
   "source": [
    "square_or_which_is_longer(7)"
   ]
  },
  {
   "cell_type": "code",
   "execution_count": null,
   "metadata": {},
   "outputs": [],
   "source": [
    "square_or_which_is_longer(\"hahaha\")"
   ]
  },
  {
   "cell_type": "code",
   "execution_count": null,
   "metadata": {},
   "outputs": [],
   "source": [
    "square_or_which_is_longer(7.5)"
   ]
  },
  {
   "cell_type": "markdown",
   "metadata": {},
   "source": [
    "<br><br>"
   ]
  },
  {
   "cell_type": "markdown",
   "metadata": {},
   "source": [
    "Write a function that takes a list, a value and a replacement value, and returns a list where all instances of the value are replaced by the replacement value.\n",
    "\n",
    "The function signature is provided."
   ]
  },
  {
   "cell_type": "code",
   "execution_count": null,
   "metadata": {},
   "outputs": [],
   "source": [
    "def replace_in_list(my_list, value_to_replace, replacement_value):\n",
    "    list_to_return = my_list\n",
    "    for item_index in range(len(list_to_return)):\n",
    "        if list_to_return[item_index] == value_to_replace:\n",
    "            list_to_return[item_index] = replacement_value\n",
    "    return list_to_return"
   ]
  },
  {
   "cell_type": "markdown",
   "metadata": {},
   "source": [
    "Tests"
   ]
  },
  {
   "cell_type": "code",
   "execution_count": null,
   "metadata": {},
   "outputs": [],
   "source": [
    "replace_in_list([7, 4, 3, 9, -1], 9, -17)"
   ]
  },
  {
   "cell_type": "code",
   "execution_count": null,
   "metadata": {},
   "outputs": [],
   "source": [
    "replace_in_list([7, 4, 3, 9, -1], 12, -17)"
   ]
  },
  {
   "cell_type": "markdown",
   "metadata": {},
   "source": [
    "<br><br>"
   ]
  },
  {
   "cell_type": "markdown",
   "metadata": {},
   "source": [
    "## Dictionaries"
   ]
  },
  {
   "cell_type": "markdown",
   "metadata": {},
   "source": [
    "Create a dictionary where the keys are names of people and the values are ages. Then, for each key/value pair, print \"Person is X years old.\""
   ]
  },
  {
   "cell_type": "code",
   "execution_count": null,
   "metadata": {},
   "outputs": [],
   "source": [
    "# Write code here\n",
    "people = {\"John\":25, \"Jane\":32, \"Jeremy\":21}\n",
    "\n",
    "for name, age in people.items():\n",
    "    print(name + \" is \" + str(age) + \" years old.\")"
   ]
  },
  {
   "cell_type": "markdown",
   "metadata": {},
   "source": [
    "<br><br>"
   ]
  },
  {
   "cell_type": "markdown",
   "metadata": {},
   "source": [
    "Write a function that takes the name, age and address of a person, then returns a dictionary with that information."
   ]
  },
  {
   "cell_type": "code",
   "execution_count": null,
   "metadata": {},
   "outputs": [],
   "source": [
    "# Write code here\n",
    "def get_info(name, age, address):\n",
    "    return {\"name\":name, \"age\":age, \"address\":address}"
   ]
  },
  {
   "cell_type": "markdown",
   "metadata": {},
   "source": [
    "<br><br>"
   ]
  },
  {
   "cell_type": "markdown",
   "metadata": {},
   "source": [
    "Repeat the GPA calculator problem using a dictionary instead of many if/else if's"
   ]
  },
  {
   "cell_type": "code",
   "execution_count": null,
   "metadata": {},
   "outputs": [],
   "source": [
    "# Write code here:\n",
    "grades = []\n",
    "possible_grades = {'A+':4,'A':4,'A-':3.7,'B+':3.3,'B':3,'B-':2.7,'C+':2.3,'C':2,'C-':1.7,'D+':1.3,'D':1,'F':0}\n",
    "while True:\n",
    "    input_grade = input(\"Enter a grade: \")\n",
    "    if input_grade in possible_grades:\n",
    "        grades.append(input_grade)\n",
    "    elif input_grade == 'q':\n",
    "        break\n",
    "    else:\n",
    "        print(\"Invalid input\")\n",
    "        \n",
    "total_points = 0\n",
    "for grade in grades:\n",
    "    total_points += possible_grades[grade]        \n",
    "        \n",
    "gpa = total_points/len(grades)\n",
    "\n",
    "print(\"your GPA is: \", gpa)"
   ]
  },
  {
   "cell_type": "markdown",
   "metadata": {},
   "source": [
    "<br><br>"
   ]
  },
  {
   "cell_type": "markdown",
   "metadata": {},
   "source": [
    "Write a function that takes two equal length lists and returns a dictionary where the keys are from the first list and the values are from the second list. If the two lists are not the same length, print \"Hey, the number of keys and the number of values must be the same!!\" and stop executing. If any duplicate items exist in the key list, print \"Hey, no duplicate keys!!\" and return an empty list."
   ]
  },
  {
   "cell_type": "code",
   "execution_count": null,
   "metadata": {},
   "outputs": [],
   "source": [
    "def make_dict_from_lists(key_list, value_list):\n",
    "    if len(key_list) != len(value_list):\n",
    "        print(\"Hey, the number of keys and the number of values must be the same!!\")\n",
    "    else:\n",
    "        dict_to_return = dict()\n",
    "        for index in range(len(key_list)):\n",
    "            key = key_list[index]\n",
    "            value = value_list[index]\n",
    "            if key in dict_to_return:\n",
    "                print(\"Hey, no duplicate keys!!\")\n",
    "                return []\n",
    "            else:\n",
    "                dict_to_return[key] = value\n",
    "        return dict_to_return"
   ]
  },
  {
   "cell_type": "markdown",
   "metadata": {},
   "source": [
    "Tests:"
   ]
  },
  {
   "cell_type": "code",
   "execution_count": null,
   "metadata": {},
   "outputs": [],
   "source": [
    "make_dict_from_lists([\"one\", \"two\"], [1, 2])"
   ]
  },
  {
   "cell_type": "code",
   "execution_count": null,
   "metadata": {},
   "outputs": [],
   "source": [
    "make_dict_from_lists([\"one\", \"two\", \"three\"], [1, 2])"
   ]
  },
  {
   "cell_type": "code",
   "execution_count": null,
   "metadata": {},
   "outputs": [],
   "source": [
    "make_dict_from_lists([\"one\", \"two\", \"one\"], [1, 2, 1])"
   ]
  },
  {
   "cell_type": "code",
   "execution_count": null,
   "metadata": {},
   "outputs": [],
   "source": [
    "make_dict_from_lists([\"one\", \"two\", \"three\"], [1, 2, 1])"
   ]
  },
  {
   "cell_type": "markdown",
   "metadata": {},
   "source": [
    "<br><br>"
   ]
  },
  {
   "cell_type": "markdown",
   "metadata": {},
   "source": [
    "The next cell will generate a dictionary whose keys are strings and whose values are random integers between 0 and 100. Write a loop that creates a list of the keys whose corresponding values are even numbers."
   ]
  },
  {
   "cell_type": "code",
   "execution_count": null,
   "metadata": {},
   "outputs": [],
   "source": [
    "import numpy as np\n",
    "keys = [\"\".join([chr(x) for x in sample]) for sample in np.random.randint(ord(\"a\"), ord(\"z\") + 1, [20, 6])]\n",
    "values = np.random.randint(0, 101, len(keys))\n",
    "test_dict = {k: v for k, v in zip(keys, values)}\n",
    "test_dict"
   ]
  },
  {
   "cell_type": "code",
   "execution_count": null,
   "metadata": {},
   "outputs": [],
   "source": [
    "keys_of_even_values = []\n",
    "for k in test_dict:\n",
    "    if test_dict[k] % 2 == 0:\n",
    "        keys_of_even_values.append(k)\n",
    "keys_of_even_values"
   ]
  },
  {
   "cell_type": "markdown",
   "metadata": {},
   "source": [
    "<br><br>"
   ]
  },
  {
   "cell_type": "markdown",
   "metadata": {},
   "source": [
    "Write code that counts the number of each word in the provided paragraph by creating a dictionary.\n",
    "\n",
    "If the paragraph was \"it is what it is\", the output would be:\n",
    "\n",
    "it: 2\n",
    "\n",
    "is: 2\n",
    "\n",
    "what: 1\n",
    "\n",
    "\n",
    "All of the punctuation etc. has been removed from the paragraph.\n",
    "\n",
    "The `.split()` method will be helpful.\n",
    "If you call `.split()` on a string, it will return a list of the words.\n",
    "\n",
    "`\"Hello World\".split()` will return `[\"Hello\", \"World\"]`"
   ]
  },
  {
   "cell_type": "code",
   "execution_count": null,
   "metadata": {},
   "outputs": [],
   "source": [
    "paragraph = \"Computer programming is the process of designing and building an executable computer program to accomplish a specific computing result Programming involves tasks such as analysis generating algorithms profiling algorithms accuracy and resource consumption and the implementation of algorithms in a chosen programming language commonly referred to as coding The source code of a program is written in one or more languages that are intelligible to programmers rather than machine code which is directly executed by the central processing unit The purpose of programming is to find a sequence of instructions that will automate the performance of a task which can be as complex as an operating system on a computer often for solving a given problem The process of programming thus often requires expertise in several different subjects including knowledge of the application domain specialized algorithms and formal logic\"\n",
    "# first paragraph from Computer Programming wikipedia page\n",
    "# https://en.wikipedia.org/wiki/Computer_programming\n",
    "\n",
    "# Write code here:\n",
    "words = paragraph.lower().split()\n",
    "word_dict = dict()\n",
    "for word in words:\n",
    "    if word in word_dict:\n",
    "        word_dict[word] += 1\n",
    "    else:\n",
    "        word_dict[word] = 1\n",
    "\n",
    "for word, count in word_dict.items():\n",
    "    print(word + \": \" + str(count))"
   ]
  },
  {
   "cell_type": "code",
   "execution_count": null,
   "metadata": {},
   "outputs": [],
   "source": [
    "# Alternative method using default dict\n",
    "from collections import defaultdict\n",
    "\n",
    "words = paragraph.lower().split()\n",
    "# Any time you use a new key in the word_dict dictionary, it will create a default entry of type integer.\n",
    "# Default value is 0, which is perfect for this situation. It can be changed to a different value if necessary though.\n",
    "word_dict = defaultdict(int)\n",
    "for word in words:\n",
    "    word_dict[word] += 1\n",
    "\n",
    "for word, count in word_dict.items():\n",
    "    print(word + \": \" + str(count))"
   ]
  }
 ],
 "metadata": {
  "kernelspec": {
   "display_name": "Python 3",
   "language": "python",
   "name": "python3"
  },
  "language_info": {
   "codemirror_mode": {
    "name": "ipython",
    "version": 3
   },
   "file_extension": ".py",
   "mimetype": "text/x-python",
   "name": "python",
   "nbconvert_exporter": "python",
   "pygments_lexer": "ipython3",
   "version": "3.7.3"
  }
 },
 "nbformat": 4,
 "nbformat_minor": 2
}
